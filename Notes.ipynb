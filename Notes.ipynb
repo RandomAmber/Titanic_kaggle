{
 "cells": [
  {
   "attachments": {},
   "cell_type": "markdown",
   "metadata": {},
   "source": [
    "#Pipeline \n",
    "0. Choose a task DONE!\n",
    "1. Observe the data: visualisation part! Tables and graphs DONE!\n",
    "2. Cleaning data. DONE!\n",
    "3. Data processing. DONE!\n",
    "4. Train/test validation\n",
    "5. Different models. Remember to fix the baseline!\n",
    "6. Changing args in models.\n",
    "7. Choosing the victor. "
   ]
  }
 ],
 "metadata": {
  "language_info": {
   "name": "python"
  },
  "orig_nbformat": 4
 },
 "nbformat": 4,
 "nbformat_minor": 2
}
